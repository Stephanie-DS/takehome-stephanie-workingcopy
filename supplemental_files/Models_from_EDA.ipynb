{
  "nbformat": 4,
  "nbformat_minor": 0,
  "metadata": {
    "colab": {
      "provenance": [],
      "authorship_tag": "ABX9TyMjQfsy4CI+2i2t4iTB+Jlg",
      "include_colab_link": true
    },
    "kernelspec": {
      "name": "python3",
      "display_name": "Python 3"
    },
    "language_info": {
      "name": "python"
    }
  },
  "cells": [
    {
      "cell_type": "markdown",
      "metadata": {
        "id": "view-in-github",
        "colab_type": "text"
      },
      "source": [
        "<a href=\"https://colab.research.google.com/github/Stephanie-DS/takehome-stephanie-workingcopy/blob/main/Models_from_EDA.ipynb\" target=\"_parent\"><img src=\"https://colab.research.google.com/assets/colab-badge.svg\" alt=\"Open In Colab\"/></a>"
      ]
    },
    {
      "cell_type": "code",
      "execution_count": null,
      "metadata": {
        "id": "Nape0BVkfiKf"
      },
      "outputs": [],
      "source": [
        "import pandas as pd\n",
        "import numpy as np\n",
        "import seaborn as sns\n",
        "import matplotlib.pyplot as plt"
      ]
    },
    {
      "cell_type": "code",
      "source": [
        "#import data\n",
        "\n",
        "url = 'https://raw.githubusercontent.com/Pivotal-Life-Sciences-DS/takehome-stephanie/main/askscience_data.csv'\n",
        "df = pd.read_csv(url)\n",
        "df = df[df.score!=df.score.max()]\n",
        "df = df[~df.tag.isin(['Meta', 'META'])]\n"
      ],
      "metadata": {
        "id": "H9i4CLAJgJ-y"
      },
      "execution_count": null,
      "outputs": []
    },
    {
      "cell_type": "code",
      "source": [
        "# Start adding extra cols\n",
        "\n",
        "df['title_len'] = df['title'].str.len()\n",
        "df['body_len'] = df['body'].fillna(\"\").str.len()\n",
        "\n",
        "# author post count\n",
        "authorcount = df.groupby('author').size().sort_values(ascending=False)\n",
        "authorcount = authorcount.to_frame(name='author_post_count')\n",
        "authorcount.iloc[0]=0 # I want to remove counts for Deleted users\n",
        "authorcount.iloc[1]=0 # i want to neutralize the mods' counts, too\n",
        "df['authorcount'] = df['author'].replace(authorcount.index, authorcount['author_post_count'])\n",
        "\n",
        "#is an AMA\n",
        "df['is_ama'] = df['title'].str.contains(\"AMA\").astype('float')\n",
        "\n",
        "#is a megathread\n",
        "df['is_megathread'] = df['title'].str.contains(\"Megathread\", case=False).astype('float')\n",
        "\n",
        "# has no capitalization\n",
        "df['no_capitalization'] = df['title'].str.islower().astype('float')\n",
        "\n",
        "# add tags as one-hot encoded columns\n",
        "df_tags = pd.get_dummies(df, columns=['tag'])\n",
        "\n",
        "df.columns\n",
        "\n",
        "df= df[['title_len', 'body_len', 'authorcount', 'is_ama', 'is_megathread', 'no_capitalization', 'score']]\n",
        "df_tags.head()\n",
        "df = df_tags.drop(['title', 'body', 'datetime', 'author', 'upvote_ratio', 'url'], axis = 1)"
      ],
      "metadata": {
        "id": "i1pngJnK7ww1"
      },
      "execution_count": null,
      "outputs": []
    },
    {
      "cell_type": "markdown",
      "source": [
        "# Very Basic Model\n",
        "I'd like to make a very basic regression model just to take the features for a spin.\n"
      ],
      "metadata": {
        "id": "Ac0_w2ak0LM4"
      }
    },
    {
      "cell_type": "code",
      "source": [
        "X = df.drop(['score'], axis =1)\n",
        "\n",
        "y = df['score']"
      ],
      "metadata": {
        "id": "gFpCKN42Tc53"
      },
      "execution_count": null,
      "outputs": []
    },
    {
      "cell_type": "code",
      "source": [
        "from sklearn.model_selection import train_test_split\n",
        "X_train, X_test, y_train, y_test = train_test_split(X, y)\n",
        "\n",
        "\n",
        "print(X_train.shape)\n",
        "print(y_train.shape)"
      ],
      "metadata": {
        "colab": {
          "base_uri": "https://localhost:8080/"
        },
        "id": "g4E35kYW0VC4",
        "outputId": "91b58a8b-1ce9-422d-c513-04931f2e1f8a"
      },
      "execution_count": null,
      "outputs": [
        {
          "output_type": "stream",
          "name": "stdout",
          "text": [
            "(3151, 37)\n",
            "(3151,)\n"
          ]
        }
      ]
    },
    {
      "cell_type": "code",
      "source": [
        "from sklearn.linear_model import LinearRegression\n",
        "lr = LinearRegression().fit(X_train, y_train)\n",
        "print(\"Training set score:, {:.2f}\".format(lr.score(X_train, y_train)))\n",
        "print(\"Test set score:, {:.2f}\".format(lr.score(X_test, y_test)))\n",
        "#print(\"lr.coef_:\", lr.coef_)"
      ],
      "metadata": {
        "colab": {
          "base_uri": "https://localhost:8080/"
        },
        "id": "ysMkYkMJ04ya",
        "outputId": "877716a2-05d1-4c6d-a255-b96273aeae53"
      },
      "execution_count": null,
      "outputs": [
        {
          "output_type": "stream",
          "name": "stdout",
          "text": [
            "Training set score:, 0.66\n",
            "Test set score:, 0.66\n"
          ]
        }
      ]
    },
    {
      "cell_type": "code",
      "source": [
        "from sklearn.linear_model import Ridge\n",
        "ridge = Ridge().fit(X_train, y_train)\n",
        "print(\"Training set score:, {:.2f}\".format(ridge.score(X_train, y_train)))\n",
        "print(\"Test set score:, {:.2f}\".format(ridge.score(X_test, y_test)))\n"
      ],
      "metadata": {
        "colab": {
          "base_uri": "https://localhost:8080/"
        },
        "id": "U0QjhIFl3SZx",
        "outputId": "ca159c35-fbfe-4f9d-f184-a34636af9538"
      },
      "execution_count": null,
      "outputs": [
        {
          "output_type": "stream",
          "name": "stdout",
          "text": [
            "Training set score:, 0.66\n",
            "Test set score:, 0.66\n"
          ]
        }
      ]
    },
    {
      "cell_type": "code",
      "source": [
        "y_pred = ridge.predict(X_test)\n",
        "df_ridgetest = pd.DataFrame(data = {\"y_test\":y_test, \"y_pred\":y_pred})\n",
        "#print(df_ridgetest.head(20))"
      ],
      "metadata": {
        "id": "NlCYkFk_62ma"
      },
      "execution_count": null,
      "outputs": []
    },
    {
      "cell_type": "code",
      "source": [
        "from sklearn.tree import DecisionTreeRegressor\n",
        "\n",
        "regr_1 = DecisionTreeRegressor(max_depth= 3)\n",
        "regr_2 = DecisionTreeRegressor(max_depth= 5)\n",
        "regr_1.fit(X_train, y_train)\n",
        "regr_2.fit(X_train, y_train)\n",
        "\n",
        "y_1 = regr_1.predict(X_test)\n",
        "y_2 = regr_2.predict(X_test)\n",
        "\n",
        "print(\"Training set score:, {:.2f}\".format(regr_1.score(X_train, y_train)))\n",
        "print(\"Test set score:, {:.2f}\".format(regr_1.score(X_test, y_test)))\n",
        "\n",
        "print(\"Training set score:, {:.2f}\".format(regr_2.score(X_train, y_train)))\n",
        "print(\"Test set score:, {:.2f}\".format(regr_2.score(X_test, y_test)))\n",
        "\n"
      ],
      "metadata": {
        "colab": {
          "base_uri": "https://localhost:8080/"
        },
        "id": "y-_l0FVJGvOU",
        "outputId": "f3eef3db-cccc-4471-cfb1-c1cbca7dd767"
      },
      "execution_count": null,
      "outputs": [
        {
          "output_type": "stream",
          "name": "stdout",
          "text": [
            "Training set score:, 0.83\n",
            "Test set score:, 0.59\n",
            "Training set score:, 0.88\n",
            "Test set score:, 0.63\n"
          ]
        }
      ]
    },
    {
      "cell_type": "code",
      "source": [
        "df_treetest = pd.DataFrame(data = {\"y_test\":y_test, \"y_pred\":y_1})\n",
        "#print(df_treetest.head(20))"
      ],
      "metadata": {
        "id": "d1kZCaE1Haot"
      },
      "execution_count": null,
      "outputs": []
    },
    {
      "cell_type": "code",
      "source": [
        "from sklearn.ensemble import RandomForestRegressor\n",
        "rfr = RandomForestRegressor(random_state=0, max_depth =5)\n",
        "rfr.fit(X_train, y_train)\n",
        "print(\"Training set score:, {:.2f}\".format(rfr.score(X_train, y_train)))\n",
        "print(\"Test set score:, {:.2f}\".format(rfr.score(X_test, y_test)))"
      ],
      "metadata": {
        "colab": {
          "base_uri": "https://localhost:8080/"
        },
        "id": "uJmaE10EI4hp",
        "outputId": "877ed094-8b5e-4639-e1c5-87bb22a71959"
      },
      "execution_count": null,
      "outputs": [
        {
          "output_type": "stream",
          "name": "stdout",
          "text": [
            "Training set score:, 0.91\n",
            "Test set score:, 0.80\n"
          ]
        }
      ]
    },
    {
      "cell_type": "code",
      "source": [
        "from sklearn.model_selection import cross_val_score\n",
        "# Define hyperparameter search space\n",
        "search_criterion = {\n",
        "    'criterion':['squared_error', 'absolute_error', 'friedman_mse', 'poisson'],\n",
        "    'max_depth':[2,3,4,5,6,7,8],\n",
        "    'min_samples_split': [2, 3, 4, 5, 6, 7],\n",
        "    'min_samples_leaf': [1, 2, 3, 4, 5, 6, 7, 8, 9]\n",
        "}"
      ],
      "metadata": {
        "id": "4LgccZronWtZ"
      },
      "execution_count": null,
      "outputs": []
    },
    {
      "cell_type": "code",
      "source": [
        "max_score = 0\n",
        "best_parameters = {}\n",
        "\n",
        "# Run grid search over hyperparameter space\n",
        "for criterion in search_criterion['criterion']:\n",
        "    for max_depth in search_criterion['max_depth']:\n",
        "      for min_samples_split in search_criterion['min_samples_split']:\n",
        "        for min_samples_leaf in search_criterion['min_samples_leaf']:\n",
        "          regr = RandomForestRegressor(\n",
        "              criterion = criterion,\n",
        "              max_depth = max_depth,\n",
        "              min_samples_split = min_samples_split,\n",
        "              min_samples_leaf = min_samples_leaf,\n",
        "              random_state = 12,\n",
        "          )\n",
        "\n",
        "          # Get a series of 5 cross validation scores for R^2\n",
        "          myscore = rfr.score(X_test, y_test)\n",
        "\n",
        "\n",
        "          # Compare mean balanced accuracy scores at the present parameter set\n",
        "          # with the previous best set. If the current set outperforms\n",
        "          # the prior winner, it becomes the new winner.\n",
        "          if max_score < myscore:\n",
        "            max_score = myscore\n",
        "            best_parameters = {\n",
        "                'criterion': criterion,\n",
        "                'max_depth': max_depth,\n",
        "                'min_samples_split': min_samples_split,\n",
        "                'min_samples_leaf': min_samples_leaf\n",
        "            }"
      ],
      "metadata": {
        "id": "tBC-_xfBnvRT"
      },
      "execution_count": null,
      "outputs": []
    },
    {
      "cell_type": "code",
      "source": [
        "best_parameters"
      ],
      "metadata": {
        "colab": {
          "base_uri": "https://localhost:8080/"
        },
        "id": "hx8vqEC0n7S6",
        "outputId": "9c27aa0d-2223-4c5c-8a9f-68a0bd364bbd"
      },
      "execution_count": null,
      "outputs": [
        {
          "output_type": "execute_result",
          "data": {
            "text/plain": [
              "{'criterion': 'squared_error',\n",
              " 'max_depth': 2,\n",
              " 'min_samples_split': 2,\n",
              " 'min_samples_leaf': 1}"
            ]
          },
          "metadata": {},
          "execution_count": 35
        }
      ]
    },
    {
      "cell_type": "code",
      "source": [
        "max_score"
      ],
      "metadata": {
        "colab": {
          "base_uri": "https://localhost:8080/"
        },
        "id": "AqhWMXPupQ4n",
        "outputId": "4560a38d-1837-4cd6-918f-da5abfb1947d"
      },
      "execution_count": null,
      "outputs": [
        {
          "output_type": "execute_result",
          "data": {
            "text/plain": [
              "0.8043938088513618"
            ]
          },
          "metadata": {},
          "execution_count": 36
        }
      ]
    },
    {
      "cell_type": "code",
      "source": [
        "# Finally, let's train a single instance of the model and\n",
        "# look again at the feature importances in a single trained\n",
        "# instance of this model. There has been some reordering,\n",
        "# but no changes major enough to seem impossible or obviously wrong.\n",
        "\n",
        "\n",
        "regr = RandomForestRegressor(\n",
        "            criterion = best_parameters['criterion'],\n",
        "            max_depth = best_parameters['n_estimators'],\n",
        "            min_samples_split = best_parameters['min_samples_split'],\n",
        "            min_samples_leaf = best_parameters['min_samples_leaf'],\n",
        "            random_state = 12,\n",
        "        )\n",
        "\n",
        "regr.fit(X_train, y_train)\n",
        "\n",
        "y_pred = regr.predict(X_test)\n",
        "\n",
        "\n",
        "print(\"Training set score:, {:.2f}\".format(regr.score(X_train, y_train)))\n",
        "print(\"Test set score:, {:.2f}\".format(regr.score(X_test, y_test)))\n",
        "\n",
        "feature_importances = pd.DataFrame({'features':sk_dataset['frame'].columns[0:-2],\n",
        "                                    'importances':regr.feature_importances_})\n",
        "\n",
        "feature_importances.sort_values('importances', ascending=False)"
      ],
      "metadata": {
        "id": "zFpds0LqpWLj"
      },
      "execution_count": null,
      "outputs": []
    },
    {
      "cell_type": "markdown",
      "source": [],
      "metadata": {
        "id": "I1XROOimnu72"
      }
    }
  ]
}